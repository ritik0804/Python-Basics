{
  "nbformat": 4,
  "nbformat_minor": 0,
  "metadata": {
    "colab": {
      "provenance": []
    },
    "kernelspec": {
      "name": "python3",
      "display_name": "Python 3"
    },
    "language_info": {
      "name": "python"
    }
  },
  "cells": [
    {
      "cell_type": "markdown",
      "source": [
        "# Python Basics Questions"
      ],
      "metadata": {
        "id": "EtoT1QLnHdN8"
      }
    },
    {
      "cell_type": "markdown",
      "source": [
        "1. What is Python, and why is it popular?\n",
        "-->Python is a high-level, interpreted, and general-purpose programming language known for its simplicity and readability.\n",
        "Popularity reasons:\n",
        "\n",
        "Easy syntax (similar to English)\n",
        "\n",
        "Vast libraries and frameworks"
      ],
      "metadata": {
        "id": "h9mPJBNr_Jo7"
      }
    },
    {
      "cell_type": "markdown",
      "source": [
        "2. What is an interpreter in Python?\n",
        "\n",
        "-->An interpreter is a program that reads and executes Python code line by line, translating it into   machine code at runtime.\n",
        "\n"
      ],
      "metadata": {
        "id": "IKBnk86e_f-1"
      }
    },
    {
      "cell_type": "markdown",
      "source": [
        "3. What are pre-defined keywords in Python?\n",
        "\n",
        "-->Keywords are reserved words in Python that have special meaning.\n",
        "Examples: if, else, for, while, def, class, True, False\n",
        "They are used to define the syntax and structure of Python programs."
      ],
      "metadata": {
        "id": "TIiOt2ms_46q"
      }
    },
    {
      "cell_type": "markdown",
      "source": [
        "4. Can keywords be used as variable names?\n",
        "\n",
        "--> No.\n",
        "Keywords are reserved and cannot be used as variable names."
      ],
      "metadata": {
        "id": "dwJZ4L0YAEth"
      }
    },
    {
      "cell_type": "markdown",
      "source": [
        "5. What is mutability in Python?\n",
        "\n",
        "--> Mutability refers to whether an object can be changed after creation.\n",
        "\n",
        "Mutable: Can be modified (e.g., list, dict, set)\n",
        "\n",
        "Immutable: Cannot be modified (e.g., int, str, tuple)\n"
      ],
      "metadata": {
        "id": "8Nx5GvMsAPFY"
      }
    },
    {
      "cell_type": "markdown",
      "source": [
        "6. Why are lists mutable, but tuples are immutable?\n",
        "\n",
        "--> Lists are designed for dynamic data, where updates are expected.\n",
        "\n",
        "--> Tuples are for fixed, constant data, and immutability provides safety, especially when used as dictionary keys.\n"
      ],
      "metadata": {
        "id": "PpK_2OogAhJ2"
      }
    },
    {
      "cell_type": "markdown",
      "source": [
        "7. What is the difference between “==” and “is” operators in Python?\n",
        "\n",
        "--> Operator\tChecks\tExample ==\tValue equality\t\"hello\" == \"hello\"\n",
        "→ True is\tObject identity\ta is b → True only if a and b point to the same object in memory."
      ],
      "metadata": {
        "id": "EgA3FVShBOqs"
      }
    },
    {
      "cell_type": "markdown",
      "source": [
        "8. What are logical operators in Python?\n",
        "\n",
        "--> Logical operators in Python are used to combine or modify boolean expressions (True or False). There are three logical operators: and, or, and not.\n"
      ],
      "metadata": {
        "id": "uqk4gM-zBn3D"
      }
    },
    {
      "cell_type": "markdown",
      "source": [
        "9. What is type casting in Python?\n",
        "\n",
        "-->Type Casting is the method to convert the Python variable datatype into a certain data type in order to perform the required operation by users."
      ],
      "metadata": {
        "id": "NJZmwO9YB9rH"
      }
    },
    {
      "cell_type": "markdown",
      "source": [
        "10. What is the difference between implicit and explicit type casting?\n",
        "\n",
        "--> Implicit type casting, also known as widening or upcasting, is automatically performed by the compiler when a smaller data type is converted to a larger one.\n",
        "--> Explicit type casting, also known as narrowing or downcasting, requires the programmer to explicitly convert a larger data type to a smaller one, often involving the risk of data loss."
      ],
      "metadata": {
        "id": "TmBw258VC2sy"
      }
    },
    {
      "cell_type": "markdown",
      "source": [
        "11. What is the purpose of conditional statements in Python?\n",
        "\n",
        "-->They allow the program to make decisions and execute different code blocks based on conditions.\n",
        "Keywords: if, elif, else."
      ],
      "metadata": {
        "id": "CrDvAh_xDrgY"
      }
    },
    {
      "cell_type": "markdown",
      "source": [
        "12. How does the elif statement work?\n",
        "\n",
        "-->The elif statement in programming languages like Python acts as a shortcut for \"else if.\" It allows you to check multiple conditions sequentially after an initial statement.\n"
      ],
      "metadata": {
        "id": "CMYYMwONETUk"
      }
    },
    {
      "cell_type": "markdown",
      "source": [
        "13. What is the difference between for and while loops?\n",
        "\n",
        "--> Loops lies in how they determine the loop's continuation. for loops are typically used when the number of iterations is known in advance, often when iterating over a sequence or collection.\n",
        "loops, on the other hand, continue execution as long as a specified condition remains true, making them suitable for situations where the number of iterations is not predetermined."
      ],
      "metadata": {
        "id": "Cir9qDVgE77N"
      }
    },
    {
      "cell_type": "markdown",
      "source": [
        "14. Describe a scenario where a while loop is more suitable than a for loop?\n",
        "\n",
        "--> A while loop is more suitable than a for loop when the number of iterations is not known in advance and the loop should continue until a specific condition is met.\n",
        "--> This is because while loops execute as long as their condition remains true, allowing for dynamic loop termination based on changing conditions, whereas for loops are typically used when the number of iterations is predetermined, such as iterating through a collection."
      ],
      "metadata": {
        "id": "YZyZ1I_MGTlh"
      }
    },
    {
      "cell_type": "markdown",
      "source": [
        "# Practical Questions"
      ],
      "metadata": {
        "id": "Mq7ktrDaHS2m"
      }
    },
    {
      "cell_type": "markdown",
      "source": [
        "1. Write a Python program to print \"Hello, World!?\n"
      ],
      "metadata": {
        "id": "w6UPZz1OHhMe"
      }
    },
    {
      "cell_type": "code",
      "execution_count": 1,
      "metadata": {
        "id": "EuMVdXK019og",
        "colab": {
          "base_uri": "https://localhost:8080/"
        },
        "outputId": "7ac41b16-21c6-4ec7-a4f4-fa539aa06c69"
      },
      "outputs": [
        {
          "output_type": "stream",
          "name": "stdout",
          "text": [
            "Hello, World!\n"
          ]
        }
      ],
      "source": [
        "print(\"Hello, World!\")"
      ]
    },
    {
      "cell_type": "markdown",
      "source": [
        "2. Write a Python program that displays your name and age?"
      ],
      "metadata": {
        "id": "cghX_KgBH4T0"
      }
    },
    {
      "cell_type": "code",
      "source": [
        "name = \"Ritik Maheshwari\"\n",
        "age = 25\n",
        "print(\"Name:\", name)\n",
        "print(\"Age:\", age)"
      ],
      "metadata": {
        "colab": {
          "base_uri": "https://localhost:8080/"
        },
        "id": "TY7bTiUhIAjv",
        "outputId": "2ef5d2a7-1c87-46c4-a331-d6c3ef2afa7c"
      },
      "execution_count": 2,
      "outputs": [
        {
          "output_type": "stream",
          "name": "stdout",
          "text": [
            "Name: Ritik Maheshwari\n",
            "Age: 25\n"
          ]
        }
      ]
    },
    {
      "cell_type": "markdown",
      "source": [
        "3. Write code to print all the pre-defined keywords in Python using the keyword library?"
      ],
      "metadata": {
        "id": "Hpq9llugIGbp"
      }
    },
    {
      "cell_type": "code",
      "source": [
        "import keyword\n",
        "print(\"Python Keywords:\")\n",
        "print(keyword.kwlist)"
      ],
      "metadata": {
        "colab": {
          "base_uri": "https://localhost:8080/"
        },
        "id": "hsjTE98I2BUh",
        "outputId": "0e198296-51d8-453e-ff60-45dd07f1b968"
      },
      "execution_count": 3,
      "outputs": [
        {
          "output_type": "stream",
          "name": "stdout",
          "text": [
            "Python Keywords:\n",
            "['False', 'None', 'True', 'and', 'as', 'assert', 'async', 'await', 'break', 'class', 'continue', 'def', 'del', 'elif', 'else', 'except', 'finally', 'for', 'from', 'global', 'if', 'import', 'in', 'is', 'lambda', 'nonlocal', 'not', 'or', 'pass', 'raise', 'return', 'try', 'while', 'with', 'yield']\n"
          ]
        }
      ]
    },
    {
      "cell_type": "markdown",
      "source": [
        "4. Write a program that checks if a given word is a Python keyword?\n"
      ],
      "metadata": {
        "id": "QiaFi_FtIbJ9"
      }
    },
    {
      "cell_type": "code",
      "source": [
        "import keyword\n",
        "\n",
        "word = input(\"Enter a word: \")\n",
        "if keyword.iskeyword(word):\n",
        "    print(f\"'{word}' is a Python keyword.\")\n",
        "else:\n",
        "    print(f\"'{word}' is not a Python keyword.\")"
      ],
      "metadata": {
        "colab": {
          "base_uri": "https://localhost:8080/"
        },
        "id": "NHUKiMNHIkFo",
        "outputId": "f10556f1-b2af-4591-d356-d3b65283af5c"
      },
      "execution_count": 4,
      "outputs": [
        {
          "output_type": "stream",
          "name": "stdout",
          "text": [
            "Enter a word: Kallu\n",
            "'Kallu' is not a Python keyword.\n"
          ]
        }
      ]
    },
    {
      "cell_type": "markdown",
      "source": [
        "5. Create a list and tuple in Python, and demonstrate how attempting to change an element works differently for each?"
      ],
      "metadata": {
        "id": "Y0imijiEIrZz"
      }
    },
    {
      "cell_type": "code",
      "source": [
        "# List (Mutable)\n",
        "my_list = [1, 2, 3]\n",
        "my_list[0] = 10\n",
        "print(\"Modified List:\", my_list)\n",
        "\n",
        "# Tuple (Immutable)\n",
        "my_tuple = (1, 2, 3)\n",
        "# my_tuple[0] = 10  # ❌ This will raise a TypeError\n",
        "print(\"Tuple:\", my_tuple)"
      ],
      "metadata": {
        "colab": {
          "base_uri": "https://localhost:8080/"
        },
        "id": "kHZ2iAW2IlA1",
        "outputId": "f70ed578-3712-4400-b51e-2ab4ca3488d6"
      },
      "execution_count": 5,
      "outputs": [
        {
          "output_type": "stream",
          "name": "stdout",
          "text": [
            "Modified List: [10, 2, 3]\n",
            "Tuple: (1, 2, 3)\n"
          ]
        }
      ]
    },
    {
      "cell_type": "markdown",
      "source": [
        "6. Write a function to demonstrate the behavior of mutable and immutable arguments"
      ],
      "metadata": {
        "id": "v85IqqH9I4GS"
      }
    },
    {
      "cell_type": "code",
      "source": [
        "def modify_data(num, lst):\n",
        "    num += 1           # Immutable: integer won't change outside\n",
        "    lst.append(100)    # Mutable: list is modified\n",
        "\n",
        "x = 5\n",
        "y = [1, 2, 3]\n",
        "\n",
        "modify_data(x, y)\n",
        "print(\"x (int):\", x)    # Output: 5\n",
        "print(\"y (list):\", y)   # Output: [1, 2, 3, 100]"
      ],
      "metadata": {
        "colab": {
          "base_uri": "https://localhost:8080/"
        },
        "id": "FCkKHAnwI9De",
        "outputId": "82b80b3b-8aed-4229-c129-880ae9e668c3"
      },
      "execution_count": 6,
      "outputs": [
        {
          "output_type": "stream",
          "name": "stdout",
          "text": [
            "x (int): 5\n",
            "y (list): [1, 2, 3, 100]\n"
          ]
        }
      ]
    },
    {
      "cell_type": "markdown",
      "source": [
        "7. Write a program that performs basic arithmetic operations on two user-input numbers?"
      ],
      "metadata": {
        "id": "JAD21dVoJGRm"
      }
    },
    {
      "cell_type": "code",
      "source": [
        "num1 = float(input(\"Enter the first number: \"))\n",
        "num2 = float(input(\"Enter the second number: \"))"
      ],
      "metadata": {
        "colab": {
          "base_uri": "https://localhost:8080/"
        },
        "id": "DHdP1kgnJF-H",
        "outputId": "43d7bece-e4f5-4c7e-9ebb-05ab97b780fa"
      },
      "execution_count": 11,
      "outputs": [
        {
          "name": "stdout",
          "output_type": "stream",
          "text": [
            "Enter the first number: 1\n",
            "Enter the second number: 2\n"
          ]
        }
      ]
    },
    {
      "cell_type": "markdown",
      "source": [
        "8. Write a program to demonstrate the use of logical operators?"
      ],
      "metadata": {
        "id": "S7glZBhSJFwm"
      }
    },
    {
      "cell_type": "code",
      "source": [
        "x = 10\n",
        "y = 5\n",
        "\n",
        "print(x > 5 and y < 10)   # True\n",
        "print(x > 15 or y < 10)   # True\n",
        "print(not (x < 20))       # False"
      ],
      "metadata": {
        "colab": {
          "base_uri": "https://localhost:8080/"
        },
        "id": "PFV89ekMJFhf",
        "outputId": "708b96f3-f07f-45dd-f755-2f8b65f2e93d"
      },
      "execution_count": 12,
      "outputs": [
        {
          "output_type": "stream",
          "name": "stdout",
          "text": [
            "True\n",
            "True\n",
            "False\n"
          ]
        }
      ]
    },
    {
      "cell_type": "markdown",
      "source": [
        "9.  Write a Python program to convert user input from string to integer, float, and boolean types?"
      ],
      "metadata": {
        "id": "Ehr0KagiJFIf"
      }
    },
    {
      "cell_type": "code",
      "source": [
        "user_input = input(\"Enter a value: \")\n",
        "\n",
        "print(\"As Integer:\", int(user_input))\n",
        "print(\"As Float:\", float(user_input))\n",
        "print(\"As Boolean:\", bool(user_input))"
      ],
      "metadata": {
        "colab": {
          "base_uri": "https://localhost:8080/"
        },
        "id": "MW9zKuReJ6va",
        "outputId": "caeee6f6-b381-422e-ba90-0a63d32d1a4e"
      },
      "execution_count": 13,
      "outputs": [
        {
          "output_type": "stream",
          "name": "stdout",
          "text": [
            "Enter a value: 1\n",
            "As Integer: 1\n",
            "As Float: 1.0\n",
            "As Boolean: True\n"
          ]
        }
      ]
    },
    {
      "cell_type": "markdown",
      "source": [
        "10. Write code to demonstrate type casting with list elements?\n"
      ],
      "metadata": {
        "id": "2fSNnFALJ6QG"
      }
    },
    {
      "cell_type": "code",
      "source": [
        "str_list = [\"1\", \"2\", \"3\"]\n",
        "int_list = [int(i) for i in str_list]\n",
        "print(\"Converted List:\", int_list)\n"
      ],
      "metadata": {
        "colab": {
          "base_uri": "https://localhost:8080/"
        },
        "id": "JVcz9kTJKIRO",
        "outputId": "bae65551-4bd0-43b5-8dcb-c47a42e829eb"
      },
      "execution_count": 14,
      "outputs": [
        {
          "output_type": "stream",
          "name": "stdout",
          "text": [
            "Converted List: [1, 2, 3]\n"
          ]
        }
      ]
    },
    {
      "cell_type": "markdown",
      "source": [
        "11. Write a program that checks if a number is positive, negative, or zero?"
      ],
      "metadata": {
        "id": "9gsXRXCTKN9j"
      }
    },
    {
      "cell_type": "code",
      "source": [
        "num = float(input(\"Enter a number: \"))\n",
        "\n",
        "if num > 0:\n",
        "    print(\"Positive\")\n",
        "elif num < 0:\n",
        "    print(\"Negative\")\n",
        "else:\n",
        "    print(\"Zero\")"
      ],
      "metadata": {
        "colab": {
          "base_uri": "https://localhost:8080/"
        },
        "id": "f99HXoO9KNk-",
        "outputId": "b7c2178c-915e-4b63-c06b-661af249e2e9"
      },
      "execution_count": 15,
      "outputs": [
        {
          "output_type": "stream",
          "name": "stdout",
          "text": [
            "Enter a number: 1\n",
            "Positive\n"
          ]
        }
      ]
    },
    {
      "cell_type": "markdown",
      "source": [
        "12.  Write a for loop to print numbers from 1 to 10.\n"
      ],
      "metadata": {
        "id": "AucPfgktJEy4"
      }
    },
    {
      "cell_type": "code",
      "source": [
        "for i in range(1, 11):\n",
        "    print(i, end=' ')"
      ],
      "metadata": {
        "colab": {
          "base_uri": "https://localhost:8080/"
        },
        "id": "Ie8ejLZVKb6a",
        "outputId": "6c3ad443-0e53-433d-c3ec-211679bc6141"
      },
      "execution_count": 16,
      "outputs": [
        {
          "output_type": "stream",
          "name": "stdout",
          "text": [
            "1 2 3 4 5 6 7 8 9 10 "
          ]
        }
      ]
    },
    {
      "cell_type": "markdown",
      "source": [
        "13. Write a Python program to find the sum of all even numbers between 1 and 50."
      ],
      "metadata": {
        "id": "8wZg7Y-mKhbA"
      }
    },
    {
      "cell_type": "code",
      "source": [
        "total = 0\n",
        "for number in range(2, 51, 2):\n",
        "    total += number\n",
        "print(total)"
      ],
      "metadata": {
        "colab": {
          "base_uri": "https://localhost:8080/"
        },
        "id": "vwCNNQ-QKotu",
        "outputId": "788173de-ac02-464b-8758-191678ce2c90"
      },
      "execution_count": 17,
      "outputs": [
        {
          "output_type": "stream",
          "name": "stdout",
          "text": [
            "650\n"
          ]
        }
      ]
    },
    {
      "cell_type": "markdown",
      "source": [
        "14. Write a program to reverse a string using a while loop."
      ],
      "metadata": {
        "id": "yStb2GsdK1MB"
      }
    },
    {
      "cell_type": "code",
      "source": [
        "from typing import Text\n",
        "Text = input(\"Enter a string: \")\n",
        "reversed_string = \"\"\n",
        "length = len(Text)\n",
        "while length > 0:\n",
        "    reversed_string += Text[length - 1]\n",
        "    length -= 1\n",
        "print(\"Reversed string:\", reversed_string)"
      ],
      "metadata": {
        "colab": {
          "base_uri": "https://localhost:8080/"
        },
        "id": "sRvtuW7qK36x",
        "outputId": "4ca12fb4-5b2b-4931-b2c3-9e9164aa0208"
      },
      "execution_count": 18,
      "outputs": [
        {
          "output_type": "stream",
          "name": "stdout",
          "text": [
            "Enter a string: 1\n",
            "Reversed string: 1\n"
          ]
        }
      ]
    },
    {
      "cell_type": "markdown",
      "source": [
        "15.  Write a Python program to calculate the factorial of a number provided by the user using a while loop."
      ],
      "metadata": {
        "id": "9HaPH_PrKiLt"
      }
    },
    {
      "cell_type": "code",
      "source": [
        "n = int(input(\"Enter a number: \"))\n",
        "factorial = 1\n",
        "i = 1\n",
        "while i <= n:\n",
        "    factorial *= i\n",
        "    i += 1\n",
        "print(f\"The factorial of {n} is {factorial}\")"
      ],
      "metadata": {
        "colab": {
          "base_uri": "https://localhost:8080/"
        },
        "id": "wQuLwULfLE01",
        "outputId": "200db332-e660-4ee0-8e1e-358c5bd1dafc"
      },
      "execution_count": 19,
      "outputs": [
        {
          "output_type": "stream",
          "name": "stdout",
          "text": [
            "Enter a number: 34\n",
            "The factorial of 34 is 295232799039604140847618609643520000000\n"
          ]
        }
      ]
    },
    {
      "cell_type": "markdown",
      "source": [],
      "metadata": {
        "id": "6YnIF3YRIqkI"
      }
    }
  ]
}